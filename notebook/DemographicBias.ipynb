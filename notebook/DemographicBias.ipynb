{
 "metadata": {
  "name": "",
  "signature": "sha256:b6aeb2a58f65cddd682077923fe9bd6b246d59fd709bfd273e8f054e81248cf5"
 },
 "nbformat": 3,
 "nbformat_minor": 0,
 "worksheets": [
  {
   "cells": [
    {
     "cell_type": "markdown",
     "metadata": {},
     "source": [
      "## Demographic Bias in Classifiers\n",
      "\n",
      "Consider a supervised classifier to predict whether a Twitter user smokes. Suppose by chance the training data indicates that people from South Carolina are twice as likely to smoke as those from North Carolina. Will this bias the classifier to label South Carolinians as smokers? \n",
      "\n",
      "In this notebook, we first investigate this question with synthetic data, comparing several stragies to overcome such sources of bias."
     ]
    },
    {
     "cell_type": "markdown",
     "metadata": {},
     "source": [
      "To begin, let's assume there is a target class $Y$ (e.g., smoking/non-smoking), feature vector $X$ (e.g., a term vector), and a potential confounder $Z$ (e.g., location).\n",
      "\n",
      "Our simulation will introduce a bias in the training set and determine how big of an effect this has on the testing accuracy. We assume binary values for $Y$ and $Z$. The parameters of the simulation are as follows:\n",
      "\n",
      "- $\\beta$: The probability that a term comes from $P(X|Y)$. $(1-\\beta)$ is then the probability that a term comes from $P(X|Z)$.\n",
      "- $\\alpha$: The probability $P(Z=1|Y=1)$ in the training set. The value $(1-\\alpha)$ is used for both $P(Z=0|Y=1)$ and $P(Z=1|Y=0)$\n",
      "- $k$: The number of terms per document\n",
      "- $n$: The number of training and testing documents."
     ]
    },
    {
     "cell_type": "code",
     "collapsed": false,
     "input": [
      "k = 100\n",
      "n = 100"
     ],
     "language": "python",
     "metadata": {},
     "outputs": [],
     "prompt_number": 82
    },
    {
     "cell_type": "code",
     "collapsed": false,
     "input": [
      "import numpy as np\n",
      "from numpy import random as rnd\n",
      "from numpy.random import multinomial\n",
      "\n",
      "rnd.seed(1234589)"
     ],
     "language": "python",
     "metadata": {},
     "outputs": [],
     "prompt_number": 83
    },
    {
     "cell_type": "code",
     "collapsed": false,
     "input": [
      "from sklearn.datasets import make_classification\n",
      "from sklearn.naive_bayes import GaussianNB\n",
      "\n",
      "def normalize(pr):\n",
      "    return np.exp(pr) / np.sum(np.exp(pr))\n",
      "\n",
      "def sample_term_given_class(k):\n",
      "    \"\"\" Sample P(X|Y) for a two class problem, using Gaussian Naive Bayes. \"\"\"\n",
      "    X, y = make_classification(n_samples=1000, n_features=k, n_informative=1, n_classes=2, random_state=rnd, n_clusters_per_class=1)\n",
      "    m = GaussianNB()\n",
      "    m.fit(X, y)\n",
      "    return normalize(m.theta_[0]), normalize(m.theta_[1])"
     ],
     "language": "python",
     "metadata": {},
     "outputs": [],
     "prompt_number": 102
    },
    {
     "cell_type": "code",
     "collapsed": false,
     "input": [
      "# Now we can generate documents.\n",
      "\n",
      "def sample_from(p_x):\n",
      "    # Sample from a multinomial defined by p_x. Return the sampled index.\n",
      "    return list(rnd.multinomial(1, p_x)).index(1)\n",
      "    \n",
      "def sample_docs(n, k, alpha, beta, p_x_y, p_x_z):\n",
      "    \"\"\"\n",
      "    Generate n documents of k terms each. Generative steps:\n",
      "    y ~ [.5, .5]\n",
      "    z ~ p(z|y) = [1-alpha, alpha] for y=1 else [.5, .5]\n",
      "    for i=1 to k:\n",
      "      switch ~ [beta, 1-beta]\n",
      "      if switch == 0\n",
      "          term ~ p(x|y)\n",
      "      else\n",
      "          term ~ p(x|z)\n",
      "    \"\"\"\n",
      "    docs = []\n",
      "    ys = []\n",
      "    zs = []\n",
      "    for doci in range(n):\n",
      "        y = sample_from([.5, .5])\n",
      "        z = sample_from([1-alpha, alpha]) if y == 1 else sample_from([alpha, 1-alpha])  # sample_from([.5, .5])\n",
      "        terms = np.zeros(k)\n",
      "        for termi in range(k):\n",
      "            if rnd.sample() < beta:  # Sample from p(x|y).\n",
      "                terms[sample_from(p_x_y[y])] = 1.\n",
      "            else:  # Sample from p(x|z).\n",
      "                terms[sample_from(p_x_z[z])] = 1.\n",
      "        docs.append(terms)\n",
      "        ys.append(y)\n",
      "        zs.append(z)\n",
      "    return docs, ys, zs"
     ],
     "language": "python",
     "metadata": {},
     "outputs": [],
     "prompt_number": 86
    },
    {
     "cell_type": "code",
     "collapsed": false,
     "input": [
      "from collections import Counter\n",
      "from scipy.stats import pearsonr\n",
      "from sklearn.metrics import accuracy_score, f1_score\n",
      "import matplotlib.pyplot as plt\n",
      "from sklearn.linear_model import LogisticRegression\n",
      "\n",
      "alphas = [.05, .1, .2, .3, .4, .5, .6, .7, .8, .9, .95]\n",
      "betas = [.5]\n",
      "#betas = [.1, .2, .3, .4, .5, .6, .7, .8, .9]\n",
      "clf = GaussianNB()  # LogisticRegression()\n",
      "accuracies = np.zeros(len(alphas) * len(betas))\n",
      "corrs = np.zeros(len(alphas) * len(betas))\n",
      "ntrials = 20\n",
      "for trial in range(ntrials):\n",
      "    p_x_y0, p_x_y1 = sample_term_given_class(k)\n",
      "    p_x_z0, p_x_z1 = sample_term_given_class(k)\n",
      "    X_test, y_test, z_test = sample_docs(n, k, .5, .4, [p_x_y0, p_x_y1], [p_x_z0, p_x_z1])\n",
      "    iteri = 0\n",
      "    for alpha in alphas:\n",
      "        for beta in betas:\n",
      "            X, y, z = sample_docs(n, k, alpha, beta, [p_x_y0, p_x_y1], [p_x_z0, p_x_z1])\n",
      "            clf.fit(X,y)\n",
      "            y_pred = clf.predict(X_test)\n",
      "            acc = accuracy_score(y_test, y_pred)\n",
      "            accuracies[iteri] += acc\n",
      "            corr = pearsonr(y, z)[0]\n",
      "            corrs[iteri] += corr\n",
      "            print 'alpha=', alpha, 'beta=', beta, 'y=', Counter(y).values(), 'z=', Counter(z).values(), \\\n",
      "                'corr(y,z)=', corr, 'acc=', acc, 'f1=', f1_score(y_test, y_pred, average='macro')\n",
      "            iteri += 1\n",
      "\n",
      "accuracies /= ntrials\n",
      "corrs /= ntrials"
     ],
     "language": "python",
     "metadata": {},
     "outputs": [
      {
       "output_type": "stream",
       "stream": "stdout",
       "text": [
        "alpha= 0.05 beta= 0.5 y= [52, 48] z= [52, 48] corr(y,z)= -0.842948717949 acc= 0.62 f1= 0.666666666667\n",
        "alpha="
       ]
      },
      {
       "output_type": "stream",
       "stream": "stdout",
       "text": [
        " 0.1 beta= 0.5 y= [55, 45] z= [49, 51] corr(y,z)= -0.842390184075 acc= 0.59 f1= 0.623853211009\n",
        "alpha="
       ]
      },
      {
       "output_type": "stream",
       "stream": "stdout",
       "text": [
        " 0.2 beta= 0.5 y= [47, 53] z= [47, 53] corr(y,z)= -0.726214371738 acc= 0.59 f1= 0.649572649573\n",
        "alpha="
       ]
      },
      {
       "output_type": "stream",
       "stream": "stdout",
       "text": [
        " 0.3 beta= 0.5 y= [60, 40] z= [39, 61] corr(y,z)= -0.351541372666 acc= 0.67 f1= 0.697247706422\n",
        "alpha="
       ]
      },
      {
       "output_type": "stream",
       "stream": "stdout",
       "text": [
        " 0.4 beta= 0.5 y= [46, 54] z= [60, 40] corr(y,z)= -0.229354154019 acc= 0.61 f1= 0.654867256637\n",
        "alpha="
       ]
      },
      {
       "output_type": "stream",
       "stream": "stdout",
       "text": [
        " 0.5 beta= 0.5 y= [49, 51] z= [48, 52] corr(y,z)= 0.179379411732 acc= 0.63 f1= 0.654205607477\n",
        "alpha="
       ]
      },
      {
       "output_type": "stream",
       "stream": "stdout",
       "text": [
        " 0.6 beta= 0.5 y= [40, 60] z= [38, 62] corr(y,z)= 0.243912877467 acc= 0.58 f1= 0.676923076923\n",
        "alpha="
       ]
      },
      {
       "output_type": "stream",
       "stream": "stdout",
       "text": [
        " 0.7 beta= 0.5 y= [57, 43] z= [52, 48] corr(y,z)= 0.580577891458 acc= 0.52 f1= 0.529411764706\n",
        "alpha="
       ]
      },
      {
       "output_type": "stream",
       "stream": "stdout",
       "text": [
        " 0.8 beta= 0.5 y= [56, 44] z= [46, 54] corr(y,z)= 0.575590797431 acc= 0.58 f1= 0.571428571429\n",
        "alpha="
       ]
      },
      {
       "output_type": "stream",
       "stream": "stdout",
       "text": [
        " 0.9 beta= 0.5 y= [45, 55] z= [49, 51] corr(y,z)= 0.802180628749 acc= 0.61 f1= 0.648648648649\n",
        "alpha="
       ]
      },
      {
       "output_type": "stream",
       "stream": "stdout",
       "text": [
        " 0.95 beta= 0.5 y= [51, 49] z= [52, 48] corr(y,z)= 0.820020167919 acc= 0.61 f1= 0.648648648649\n",
        "alpha="
       ]
      },
      {
       "output_type": "stream",
       "stream": "stdout",
       "text": [
        " 0.05 beta= 0.5 y= [51, 49] z= [44, 56] corr(y,z)= -0.904314246576 acc= 0.61 f1= 0.589473684211\n",
        "alpha="
       ]
      },
      {
       "output_type": "stream",
       "stream": "stdout",
       "text": [
        " 0.1 beta= 0.5 y= [50, 50] z= [46, 54] corr(y,z)= -0.682186500819 acc= 0.64 f1= 0.581395348837\n",
        "alpha="
       ]
      },
      {
       "output_type": "stream",
       "stream": "stdout",
       "text": [
        " 0.2 beta= 0.5 y= [49, 51] z= [55, 45] corr(y,z)= -0.60113285212 acc= 0.62 f1= 0.558139534884\n",
        "alpha="
       ]
      },
      {
       "output_type": "stream",
       "stream": "stdout",
       "text": [
        " 0.3 beta= 0.5 y= [60, 40] z= [50, 50] corr(y,z)= -0.408248290464 acc= 0.67 f1= 0.611764705882\n",
        "alpha="
       ]
      },
      {
       "output_type": "stream",
       "stream": "stdout",
       "text": [
        " 0.4 beta= 0.5 y= [50, 50] z= [63, 37] corr(y,z)= -0.0621369766001 acc= 0.56 f1= 0.551020408163\n",
        "alpha="
       ]
      },
      {
       "output_type": "stream",
       "stream": "stdout",
       "text": [
        " 0.5 beta= 0.5 y= [55, 45] z= [59, 41] corr(y,z)= 0.022477973438 acc= 0.69 f1= 0.607594936709\n",
        "alpha="
       ]
      },
      {
       "output_type": "stream",
       "stream": "stdout",
       "text": [
        " 0.6 beta= 0.5 y= [60, 40] z= [47, 53] corr(y,z)= 0.278109886662 acc= 0.64 f1= 0.485714285714\n",
        "alpha="
       ]
      },
      {
       "output_type": "stream",
       "stream": "stdout",
       "text": [
        " 0.7 beta= 0.5 y= [52, 48] z= [50, 50] corr(y,z)= 0.520416499867 acc= 0.63 f1= 0.593406593407\n",
        "alpha="
       ]
      },
      {
       "output_type": "stream",
       "stream": "stdout",
       "text": [
        " 0.8 beta= 0.5 y= [52, 48] z= [53, 47] corr(y,z)= 0.458793092034 acc= 0.6 f1= 0.555555555556\n",
        "alpha="
       ]
      },
      {
       "output_type": "stream",
       "stream": "stdout",
       "text": [
        " 0.9 beta= 0.5 y= [56, 44] z= [57, 43] corr(y,z)= 0.776401495041 acc= 0.56 f1= 0.47619047619\n",
        "alpha="
       ]
      },
      {
       "output_type": "stream",
       "stream": "stdout",
       "text": [
        " 0.95 beta= 0.5 y= [51, 49] z= [50, 50] corr(y,z)= 0.860172051617 acc= 0.6 f1= 0.565217391304\n",
        "alpha="
       ]
      },
      {
       "output_type": "stream",
       "stream": "stdout",
       "text": [
        " 0.05 beta= 0.5 y= [45, 55] z= [56, 44] corr(y,z)= -0.93946375945 acc= 0.51 f1= 0.494845360825\n",
        "alpha="
       ]
      },
      {
       "output_type": "stream",
       "stream": "stdout",
       "text": [
        " 0.1 beta= 0.5 y= [53, 47] z= [47, 53] corr(y,z)= -0.678843837816 acc= 0.56 f1= 0.521739130435\n",
        "alpha="
       ]
      },
      {
       "output_type": "stream",
       "stream": "stdout",
       "text": [
        " 0.2 beta= 0.5 y= [48, 52] z= [50, 50] corr(y,z)= -0.720576692123 acc= 0.59 f1= 0.568421052632\n",
        "alpha="
       ]
      },
      {
       "output_type": "stream",
       "stream": "stdout",
       "text": [
        " 0.3 beta= 0.5 y= [51, 49] z= [56, 44] corr(y,z)= -0.264362810051 acc= 0.49 f1= 0.463157894737\n",
        "alpha="
       ]
      },
      {
       "output_type": "stream",
       "stream": "stdout",
       "text": [
        " 0.4 beta= 0.5 y= [52, 48] z= [53, 47] corr(y,z)= -0.10266698563 acc= 0.7 f1= 0.7\n",
        "alpha="
       ]
      },
      {
       "output_type": "stream",
       "stream": "stdout",
       "text": [
        " 0.5 beta= 0.5 y= [52, 48] z= [53, 47] corr(y,z)= 0.13795876194 acc= 0.62 f1= 0.627450980392\n",
        "alpha="
       ]
      },
      {
       "output_type": "stream",
       "stream": "stdout",
       "text": [
        " 0.6 beta= 0.5 y= [43, 57] z= [58, 42] corr(y,z)= 0.12523079248 acc= 0.61 f1= 0.660869565217\n",
        "alpha="
       ]
      },
      {
       "output_type": "stream",
       "stream": "stdout",
       "text": [
        " 0.7 beta= 0.5 y= [55, 45] z= [57, 43] corr(y,z)= 0.391803269798 acc= 0.63 f1= 0.640776699029\n",
        "alpha="
       ]
      },
      {
       "output_type": "stream",
       "stream": "stdout",
       "text": [
        " 0.8 beta= 0.5 y= [46, 54] z= [50, 50] corr(y,z)= 0.561800647734 acc= 0.62 f1= 0.634615384615\n",
        "alpha="
       ]
      },
      {
       "output_type": "stream",
       "stream": "stdout",
       "text": [
        " 0.9 beta= 0.5 y= [46, 54] z= [49, 51] corr(y,z)= 0.700785836145 acc= 0.51 f1= 0.52427184466\n",
        "alpha="
       ]
      },
      {
       "output_type": "stream",
       "stream": "stdout",
       "text": [
        " 0.95 beta= 0.5 y= [57, 43] z= [56, 44] corr(y,z)= 0.898477201808 acc= 0.6 f1= 0.555555555556\n",
        "alpha="
       ]
      },
      {
       "output_type": "stream",
       "stream": "stdout",
       "text": [
        " 0.05 beta= 0.5 y= [46, 54] z= [58, 42] corr(y,z)= -0.921995098967 acc= 0.56 f1= 0.56\n",
        "alpha="
       ]
      },
      {
       "output_type": "stream",
       "stream": "stdout",
       "text": [
        " 0.1 beta= 0.5 y= [47, 53] z= [41, 59] corr(y,z)= -0.74427554498 acc= 0.65 f1= 0.639175257732\n",
        "alpha="
       ]
      },
      {
       "output_type": "stream",
       "stream": "stdout",
       "text": [
        " 0.2 beta= 0.5 y= [50, 50] z= [45, 55] corr(y,z)= -0.623123445461 acc= 0.49 f1= 0.463157894737\n",
        "alpha="
       ]
      },
      {
       "output_type": "stream",
       "stream": "stdout",
       "text": [
        " 0.3 beta= 0.5 y= [45, 55] z= [52, 48] corr(y,z)= -0.418430609641 acc= 0.59 f1= 0.601941747573\n",
        "alpha="
       ]
      },
      {
       "output_type": "stream",
       "stream": "stdout",
       "text": [
        " 0.4 beta= 0.5 y= [60, 40] z= [48, 52] corr(y,z)= -0.277831191446 acc= 0.55 f1= 0.366197183099\n",
        "alpha="
       ]
      },
      {
       "output_type": "stream",
       "stream": "stdout",
       "text": [
        " 0.5 beta= 0.5 y= [42, 58] z= [47, 53] corr(y,z)= -0.0706356169137 acc= 0.62 f1= 0.627450980392\n",
        "alpha="
       ]
      },
      {
       "output_type": "stream",
       "stream": "stdout",
       "text": [
        " 0.6 beta= 0.5 y= [45, 55] z= [43, 57] corr(y,z)= 0.107593644038 acc= 0.5 f1= 0.509803921569\n",
        "alpha="
       ]
      },
      {
       "output_type": "stream",
       "stream": "stdout",
       "text": [
        " 0.7 beta= 0.5 y= [54, 46] z= [45, 55] corr(y,z)= 0.391208549101 acc= 0.51 f1= 0.494845360825\n",
        "alpha="
       ]
      },
      {
       "output_type": "stream",
       "stream": "stdout",
       "text": [
        " 0.8 beta= 0.5 y= [49, 51] z= [43, 57] corr(y,z)= 0.643666626727 acc= 0.5 f1= 0.45652173913\n",
        "alpha="
       ]
      },
      {
       "output_type": "stream",
       "stream": "stdout",
       "text": [
        " 0.9 beta= 0.5 y= [52, 48] z= [53, 47] corr(y,z)= 0.859836004651 acc= 0.56 f1= 0.421052631579\n",
        "alpha="
       ]
      },
      {
       "output_type": "stream",
       "stream": "stdout",
       "text": [
        " 0.95 beta= 0.5 y= [51, 49] z= [52, 48] corr(y,z)= 0.940140309704 acc= 0.48 f1= 0.365853658537\n",
        "alpha="
       ]
      },
      {
       "output_type": "stream",
       "stream": "stdout",
       "text": [
        " 0.05 beta= 0.5 y= [36, 64] z= [63, 37] corr(y,z)= -0.978657381452 acc= 0.5 f1= 0.553571428571\n",
        "alpha="
       ]
      },
      {
       "output_type": "stream",
       "stream": "stdout",
       "text": [
        " 0.1 beta= 0.5 y= [52, 48] z= [46, 54] corr(y,z)= -0.800002322553 acc= 0.59 f1= 0.506024096386\n",
        "alpha="
       ]
      },
      {
       "output_type": "stream",
       "stream": "stdout",
       "text": [
        " 0.2 beta= 0.5 y= [38, 62] z= [54, 46] corr(y,z)= -0.682883476194 acc= 0.57 f1= 0.638655462185\n",
        "alpha="
       ]
      },
      {
       "output_type": "stream",
       "stream": "stdout",
       "text": [
        " 0.3 beta= 0.5 y= [48, 52] z= [54, 46] corr(y,z)= -0.358233971746 acc= 0.57 f1= 0.605504587156\n",
        "alpha="
       ]
      },
      {
       "output_type": "stream",
       "stream": "stdout",
       "text": [
        " 0.4 beta= 0.5 y= [49, 51] z= [52, 48] corr(y,z)= -0.219419458994 acc= 0.52 f1= 0.563636363636\n",
        "alpha="
       ]
      },
      {
       "output_type": "stream",
       "stream": "stdout",
       "text": [
        " 0.5 beta= 0.5 y= [51, 49] z= [48, 52] corr(y,z)= 0.0208208245761 acc= 0.6 f1= 0.6\n",
        "alpha="
       ]
      },
      {
       "output_type": "stream",
       "stream": "stdout",
       "text": [
        " 0.6 beta= 0.5 y= [51, 49] z= [47, 53] corr(y,z)= 0.161523253672 acc= 0.61 f1= 0.589473684211\n",
        "alpha="
       ]
      },
      {
       "output_type": "stream",
       "stream": "stdout",
       "text": [
        " 0.7 beta= 0.5 y= [44, 56] z= [54, 46] corr(y,z)= 0.413907989164 acc= 0.57 f1= 0.565656565657\n",
        "alpha="
       ]
      },
      {
       "output_type": "stream",
       "stream": "stdout",
       "text": [
        " 0.8 beta= 0.5 y= [46, 54] z= [51, 49] corr(y,z)= 0.503313538675 acc= 0.65 f1= 0.578313253012\n",
        "alpha="
       ]
      },
      {
       "output_type": "stream",
       "stream": "stdout",
       "text": [
        " 0.9 beta= 0.5 y= [45, 55] z= [47, 53] corr(y,z)= 0.759166244013 acc= 0.61 f1= 0.606060606061\n",
        "alpha="
       ]
      },
      {
       "output_type": "stream",
       "stream": "stdout",
       "text": [
        " 0.95 beta= 0.5 y= [51, 49] z= [50, 50] corr(y,z)= 0.940188056419 acc= 0.6 f1= 0.52380952381\n",
        "alpha="
       ]
      },
      {
       "output_type": "stream",
       "stream": "stdout",
       "text": [
        " 0.05 beta= 0.5 y= [56, 44] z= [47, 53] corr(y,z)= -0.900921548766 acc= 0.51 f1= 0.514851485149\n",
        "alpha="
       ]
      },
      {
       "output_type": "stream",
       "stream": "stdout",
       "text": [
        " 0.1 beta= 0.5 y= [59, 41] z= [39, 61] corr(y,z)= -0.625699109726 acc= 0.56 f1= 0.541666666667\n",
        "alpha="
       ]
      },
      {
       "output_type": "stream",
       "stream": "stdout",
       "text": [
        " 0.2 beta= 0.5 y= [46, 54] z= [54, 46] corr(y,z)= -0.677938808374 acc= 0.46 f1= 0.46\n",
        "alpha="
       ]
      },
      {
       "output_type": "stream",
       "stream": "stdout",
       "text": [
        " 0.3 beta= 0.5 y= [47, 53] z= [49, 51] corr(y,z)= -0.522245160134 acc= 0.59 f1= 0.601941747573\n",
        "alpha="
       ]
      },
      {
       "output_type": "stream",
       "stream": "stdout",
       "text": [
        " 0.4 beta= 0.5 y= [56, 44] z= [51, 49] corr(y,z)= -0.0628667658047 acc= 0.58 f1= 0.596153846154\n",
        "alpha="
       ]
      },
      {
       "output_type": "stream",
       "stream": "stdout",
       "text": [
        " 0.5 beta= 0.5 y= [45, 55] z= [51, 49] corr(y,z)= 0.00201047776629 acc= 0.58 f1= 0.611111111111\n",
        "alpha="
       ]
      },
      {
       "output_type": "stream",
       "stream": "stdout",
       "text": [
        " 0.6 beta= 0.5 y= [53, 47] z= [49, 51] corr(y,z)= 0.281763889159 acc= 0.55 f1= 0.526315789474\n",
        "alpha="
       ]
      },
      {
       "output_type": "stream",
       "stream": "stdout",
       "text": [
        " 0.7 beta= 0.5 y= [43, 57] z= [40, 60] corr(y,z)= 0.445293626396 acc= 0.56 f1= 0.650793650794\n",
        "alpha="
       ]
      },
      {
       "output_type": "stream",
       "stream": "stdout",
       "text": [
        " 0.8 beta= 0.5 y= [60, 40] z= [55, 45] corr(y,z)= 0.65648795189 acc= 0.6 f1= 0.574468085106\n",
        "alpha="
       ]
      },
      {
       "output_type": "stream",
       "stream": "stdout",
       "text": [
        " 0.9 beta= 0.5 y= [59, 41] z= [54, 46] corr(y,z)= 0.780815100088 acc= 0.59 f1= 0.577319587629\n",
        "alpha="
       ]
      },
      {
       "output_type": "stream",
       "stream": "stdout",
       "text": [
        " 0.95 beta= 0.5 y= [49, 51] z= [48, 52] corr(y,z)= 0.860060215181 acc= 0.59 f1= 0.609523809524\n",
        "alpha="
       ]
      },
      {
       "output_type": "stream",
       "stream": "stdout",
       "text": [
        " 0.05 beta= 0.5 y= [51, 49] z= [49, 51] corr(y,z)= -0.919967987195 acc= 0.54 f1= 0.566037735849\n",
        "alpha="
       ]
      },
      {
       "output_type": "stream",
       "stream": "stdout",
       "text": [
        " 0.1 beta= 0.5 y= [45, 55] z= [51, 49] corr(y,z)= -0.761971073424 acc= 0.63 f1= 0.666666666667\n",
        "alpha="
       ]
      },
      {
       "output_type": "stream",
       "stream": "stdout",
       "text": [
        " 0.2 beta= 0.5 y= [50, 50] z= [52, 48] corr(y,z)= -0.600480576769 acc= 0.64 f1= 0.678571428571\n",
        "alpha="
       ]
      },
      {
       "output_type": "stream",
       "stream": "stdout",
       "text": [
        " 0.3 beta= 0.5 y= [55, 45] z= [42, 58] corr(y,z)= -0.329882118749 acc= 0.65 f1= 0.678899082569\n",
        "alpha="
       ]
      },
      {
       "output_type": "stream",
       "stream": "stdout",
       "text": [
        " 0.4 beta= 0.5 y= [52, 48] z= [54, 46] corr(y,z)= -0.0433736198975 acc= 0.63 f1= 0.683760683761\n",
        "alpha="
       ]
      },
      {
       "output_type": "stream",
       "stream": "stdout",
       "text": [
        " 0.5 beta= 0.5 y= [61, 39] z= [53, 47] corr(y,z)= -0.0546345733787 acc= 0.57 f1= 0.547368421053\n",
        "alpha="
       ]
      },
      {
       "output_type": "stream",
       "stream": "stdout",
       "text": [
        " 0.6 beta= 0.5 y= [44, 56] z= [45, 55] corr(y,z)= 0.0080988255125 acc= 0.62 f1= 0.688524590164\n",
        "alpha="
       ]
      },
      {
       "output_type": "stream",
       "stream": "stdout",
       "text": [
        " 0.7 beta= 0.5 y= [47, 53] z= [51, 49] corr(y,z)= 0.442084736476 acc= 0.61 f1= 0.642201834862\n",
        "alpha="
       ]
      },
      {
       "output_type": "stream",
       "stream": "stdout",
       "text": [
        " 0.8 beta= 0.5 y= [49, 51] z= [51, 49] corr(y,z)= 0.600640256102 acc= 0.56 f1= 0.56862745098\n",
        "alpha="
       ]
      },
      {
       "output_type": "stream",
       "stream": "stdout",
       "text": [
        " 0.9 beta= 0.5 y= [50, 50] z= [49, 51] corr(y,z)= 0.700140042014 acc= 0.55 f1= 0.571428571429\n",
        "alpha="
       ]
      },
      {
       "output_type": "stream",
       "stream": "stdout",
       "text": [
        " 0.95 beta= 0.5 y= [51, 49] z= [50, 50] corr(y,z)= 0.860172051617 acc= 0.44 f1= 0.416666666667\n",
        "alpha="
       ]
      },
      {
       "output_type": "stream",
       "stream": "stdout",
       "text": [
        " 0.05 beta= 0.5 y= [47, 53] z= [55, 45] corr(y,z)= -0.920262529214 acc= 0.59 f1= 0.623853211009\n",
        "alpha="
       ]
      },
      {
       "output_type": "stream",
       "stream": "stdout",
       "text": [
        " 0.1 beta= 0.5 y= [49, 51] z= [52, 48] corr(y,z)= -0.900100262443 acc= 0.57 f1= 0.598130841121\n",
        "alpha="
       ]
      },
      {
       "output_type": "stream",
       "stream": "stdout",
       "text": [
        " 0.2 beta= 0.5 y= [48, 52] z= [55, 45] corr(y,z)= -0.498898034571 acc= 0.61 f1= 0.606060606061\n",
        "alpha="
       ]
      },
      {
       "output_type": "stream",
       "stream": "stdout",
       "text": [
        " 0.3 beta= 0.5 y= [56, 44] z= [34, 66] corr(y,z)= -0.512029176723 acc= 0.62 f1= 0.641509433962\n",
        "alpha="
       ]
      },
      {
       "output_type": "stream",
       "stream": "stdout",
       "text": [
        " 0.4 beta= 0.5 y= [49, 51] z= [48, 52] corr(y,z)= -0.34114120267 acc= 0.63 f1= 0.678260869565\n",
        "alpha="
       ]
      },
      {
       "output_type": "stream",
       "stream": "stdout",
       "text": [
        " 0.5 beta= 0.5 y= [54, 46] z= [51, 49] corr(y,z)= -0.0618104345741 acc= 0.51 f1= 0.494845360825\n",
        "alpha="
       ]
      },
      {
       "output_type": "stream",
       "stream": "stdout",
       "text": [
        " 0.6 beta= 0.5 y= [51, 49] z= [46, 54] corr(y,z)= 0.0618104345741 acc= 0.73 f1= 0.747663551402\n",
        "alpha="
       ]
      },
      {
       "output_type": "stream",
       "stream": "stdout",
       "text": [
        " 0.7 beta= 0.5 y= [53, 47] z= [44, 56] corr(y,z)= 0.471449986093 acc= 0.6 f1= 0.574468085106\n",
        "alpha="
       ]
      },
      {
       "output_type": "stream",
       "stream": "stdout",
       "text": [
        " 0.8 beta= 0.5 y= [57, 43] z= [59, 41] corr(y,z)= 0.672293774403 acc= 0.62 f1= 0.612244897959\n",
        "alpha="
       ]
      },
      {
       "output_type": "stream",
       "stream": "stdout",
       "text": [
        " 0.9 beta= 0.5 y= [50, 50] z= [50, 50] corr(y,z)= 0.76 acc= 0.58 f1= 0.596153846154\n",
        "alpha="
       ]
      },
      {
       "output_type": "stream",
       "stream": "stdout",
       "text": [
        " 0.95 beta= 0.5 y= [47, 53] z= [52, 48] corr(y,z)= 0.904752810864 acc= 0.61 f1= 0.635514018692\n",
        "alpha="
       ]
      },
      {
       "output_type": "stream",
       "stream": "stdout",
       "text": [
        " 0.05 beta= 0.5 y= [62, 38] z= [39, 61] corr(y,z)= -0.93686427331 acc= 0.62 f1= 0.547619047619\n",
        "alpha="
       ]
      },
      {
       "output_type": "stream",
       "stream": "stdout",
       "text": [
        " 0.1 beta= 0.5 y= [46, 54] z= [51, 49] corr(y,z)= -0.861332419454 acc= 0.63 f1= 0.640776699029\n",
        "alpha="
       ]
      },
      {
       "output_type": "stream",
       "stream": "stdout",
       "text": [
        " 0.2 beta= 0.5 y= [41, 59] z= [54, 46] corr(y,z)= -0.69922522547 acc= 0.68 f1= 0.698113207547\n",
        "alpha="
       ]
      },
      {
       "output_type": "stream",
       "stream": "stdout",
       "text": [
        " 0.3 beta= 0.5 y= [54, 46] z= [38, 62] corr(y,z)= -0.22817898236 acc= 0.63 f1= 0.602150537634\n",
        "alpha="
       ]
      },
      {
       "output_type": "stream",
       "stream": "stdout",
       "text": [
        " 0.4 beta= 0.5 y= [51, 49] z= [51, 49] corr(y,z)= -0.240496198479 acc= 0.61 f1= 0.589473684211\n",
        "alpha="
       ]
      },
      {
       "output_type": "stream",
       "stream": "stdout",
       "text": [
        " 0.5 beta= 0.5 y= [50, 50] z= [54, 46] corr(y,z)= -0.160514470781 acc= 0.67 f1= 0.666666666667\n",
        "alpha="
       ]
      },
      {
       "output_type": "stream",
       "stream": "stdout",
       "text": [
        " 0.6 beta= 0.5 y= [46, 54] z= [52, 48] corr(y,z)= 0.204016656555 acc= 0.63 f1= 0.654205607477\n",
        "alpha="
       ]
      },
      {
       "output_type": "stream",
       "stream": "stdout",
       "text": [
        " 0.7 beta= 0.5 y= [51, 49] z= [52, 48] corr(y,z)= 0.499699789826 acc= 0.62 f1= 0.627450980392\n",
        "alpha="
       ]
      },
      {
       "output_type": "stream",
       "stream": "stdout",
       "text": [
        " 0.8 beta= 0.5 y= [46, 54] z= [40, 60] corr(y,z)= 0.597959044406 acc= 0.63 f1= 0.640776699029\n",
        "alpha="
       ]
      },
      {
       "output_type": "stream",
       "stream": "stdout",
       "text": [
        " 0.9 beta= 0.5 y= [51, 49] z= [53, 47] corr(y,z)= 0.760321618399 acc= 0.52 f1= 0.563636363636\n",
        "alpha="
       ]
      },
      {
       "output_type": "stream",
       "stream": "stdout",
       "text": [
        " 0.95 beta= 0.5 y= [50, 50] z= [46, 54] corr(y,z)= 0.882829589296 acc= 0.49 f1= 0.484848484848\n",
        "alpha="
       ]
      },
      {
       "output_type": "stream",
       "stream": "stdout",
       "text": [
        " 0.05 beta= 0.5 y= [47, 53] z= [50, 50] corr(y,z)= -0.861552192178 acc= 0.52 f1= 0.555555555556\n",
        "alpha="
       ]
      },
      {
       "output_type": "stream",
       "stream": "stdout",
       "text": [
        " 0.1 beta= 0.5 y= [50, 50] z= [50, 50] corr(y,z)= -0.84 acc= 0.53 f1= 0.525252525253\n",
        "alpha="
       ]
      },
      {
       "output_type": "stream",
       "stream": "stdout",
       "text": [
        " 0.2 beta= 0.5 y= [38, 62] z= [58, 42] corr(y,z)= -0.586058302394 acc= 0.46 f1= 0.526315789474\n",
        "alpha="
       ]
      },
      {
       "output_type": "stream",
       "stream": "stdout",
       "text": [
        " 0.3 beta= 0.5 y= [47, 53] z= [54, 46] corr(y,z)= -0.256482665946 acc= 0.69 f1= 0.730434782609\n",
        "alpha="
       ]
      },
      {
       "output_type": "stream",
       "stream": "stdout",
       "text": [
        " 0.4 beta= 0.5 y= [53, 47] z= [44, 56] corr(y,z)= -0.134008043992 acc= 0.59 f1= 0.539325842697\n",
        "alpha="
       ]
      },
      {
       "output_type": "stream",
       "stream": "stdout",
       "text": [
        " 0.5 beta= 0.5 y= [52, 48] z= [49, 51] corr(y,z)= 0.0608608718378 acc= 0.61 f1= 0.628571428571\n",
        "alpha="
       ]
      },
      {
       "output_type": "stream",
       "stream": "stdout",
       "text": [
        " 0.6 beta= 0.5 y= [47, 53] z= [44, 56] corr(y,z)= 0.255099650009 acc= 0.48 f1= 0.527272727273\n",
        "alpha="
       ]
      },
      {
       "output_type": "stream",
       "stream": "stdout",
       "text": [
        " 0.7 beta= 0.5 y= [48, 52] z= [49, 51] corr(y,z)= 0.419619695302 acc= 0.5 f1= 0.5\n",
        "alpha="
       ]
      },
      {
       "output_type": "stream",
       "stream": "stdout",
       "text": [
        " 0.8 beta= 0.5 y= [50, 50] z= [48, 52] corr(y,z)= 0.720576692123 acc= 0.5 f1= 0.509803921569\n",
        "alpha="
       ]
      },
      {
       "output_type": "stream",
       "stream": "stdout",
       "text": [
        " 0.9 beta= 0.5 y= [48, 52] z= [48, 52] corr(y,z)= 0.799679487179 acc= 0.6 f1= 0.622641509434\n",
        "alpha="
       ]
      },
      {
       "output_type": "stream",
       "stream": "stdout",
       "text": [
        " 0.95 beta= 0.5 y= [45, 55] z= [44, 56] corr(y,z)= 0.817981376762 acc= 0.57 f1= 0.574257425743\n",
        "alpha="
       ]
      },
      {
       "output_type": "stream",
       "stream": "stdout",
       "text": [
        " 0.05 beta= 0.5 y= [49, 51] z= [50, 50] corr(y,z)= -0.860172051617 acc= 0.58 f1= 0.65\n",
        "alpha="
       ]
      },
      {
       "output_type": "stream",
       "stream": "stdout",
       "text": [
        " 0.1 beta= 0.5 y= [44, 56] z= [54, 46] corr(y,z)= -0.91997517904 acc= 0.63 f1= 0.717557251908\n",
        "alpha="
       ]
      },
      {
       "output_type": "stream",
       "stream": "stdout",
       "text": [
        " 0.2 beta= 0.5 y= [54, 46] z= [44, 56] corr(y,z)= -0.637030264573 acc= 0.52 f1= 0.52\n",
        "alpha="
       ]
      },
      {
       "output_type": "stream",
       "stream": "stdout",
       "text": [
        " 0.3 beta= 0.5 y= [53, 47] z= [46, 54] corr(y,z)= -0.256482665946 acc= 0.67 f1= 0.70796460177\n",
        "alpha="
       ]
      },
      {
       "output_type": "stream",
       "stream": "stdout",
       "text": [
        " 0.4 beta= 0.5 y= [42, 58] z= [48, 52] corr(y,z)= -0.0470432217547 acc= 0.57 f1= 0.656\n",
        "alpha="
       ]
      },
      {
       "output_type": "stream",
       "stream": "stdout",
       "text": [
        " 0.5 beta= 0.5 y= [51, 49] z= [59, 41] corr(y,z)= -0.0443328279777 acc= 0.57 f1= 0.619469026549\n",
        "alpha="
       ]
      },
      {
       "output_type": "stream",
       "stream": "stdout",
       "text": [
        " 0.6 beta= 0.5 y= [51, 49] z= [52, 48] corr(y,z)= 0.139339364471 acc= 0.6 f1= 0.642857142857\n",
        "alpha="
       ]
      },
      {
       "output_type": "stream",
       "stream": "stdout",
       "text": [
        " 0.7 beta= 0.5 y= [55, 45] z= [52, 48] corr(y,z)= 0.33796318471 acc= 0.61 f1= 0.613861386139\n",
        "alpha="
       ]
      },
      {
       "output_type": "stream",
       "stream": "stdout",
       "text": [
        " 0.8 beta= 0.5 y= [49, 51] z= [51, 49] corr(y,z)= 0.600640256102 acc= 0.5 f1= 0.583333333333\n",
        "alpha="
       ]
      },
      {
       "output_type": "stream",
       "stream": "stdout",
       "text": [
        " 0.9 beta= 0.5 y= [46, 54] z= [44, 56] corr(y,z)= 0.79871307284 acc= 0.56 f1= 0.620689655172\n",
        "alpha="
       ]
      },
      {
       "output_type": "stream",
       "stream": "stdout",
       "text": [
        " 0.95 beta= 0.5 y= [44, 56] z= [46, 54] corr(y,z)= 0.91997517904 acc= 0.64 f1= 0.71875\n",
        "alpha="
       ]
      },
      {
       "output_type": "stream",
       "stream": "stdout",
       "text": [
        " 0.05 beta= 0.5 y= [58, 42] z= [44, 56] corr(y,z)= -0.878381687981 acc= 0.55 f1= 0.536082474227\n",
        "alpha="
       ]
      },
      {
       "output_type": "stream",
       "stream": "stdout",
       "text": [
        " 0.1 beta= 0.5 y= [48, 52] z= [52, 48] corr(y,z)= -0.879807692308 acc= 0.57 f1= 0.565656565657\n",
        "alpha="
       ]
      },
      {
       "output_type": "stream",
       "stream": "stdout",
       "text": [
        " 0.2 beta= 0.5 y= [48, 52] z= [52, 48] corr(y,z)= -0.599358974359 acc= 0.5 f1= 0.509803921569\n",
        "alpha="
       ]
      },
      {
       "output_type": "stream",
       "stream": "stdout",
       "text": [
        " 0.3 beta= 0.5 y= [50, 50] z= [49, 51] corr(y,z)= -0.420084025208 acc= 0.52 f1= 0.510204081633\n",
        "alpha="
       ]
      },
      {
       "output_type": "stream",
       "stream": "stdout",
       "text": [
        " 0.4 beta= 0.5 y= [58, 42] z= [49, 51] corr(y,z)= -0.057552815506 acc= 0.58 f1= 0.522727272727\n",
        "alpha="
       ]
      },
      {
       "output_type": "stream",
       "stream": "stdout",
       "text": [
        " 0.5 beta= 0.5 y= [39, 61] z= [46, 54] corr(y,z)= 0.0847411207698 acc= 0.57 f1= 0.619469026549\n",
        "alpha="
       ]
      },
      {
       "output_type": "stream",
       "stream": "stdout",
       "text": [
        " 0.6 beta= 0.5 y= [53, 47] z= [53, 47] corr(y,z)= 0.277398635086 acc= 0.53 f1= 0.494623655914\n",
        "alpha="
       ]
      },
      {
       "output_type": "stream",
       "stream": "stdout",
       "text": [
        " 0.7 beta= 0.5 y= [47, 53] z= [46, 54] corr(y,z)= 0.256482665946 acc= 0.59 f1= 0.616822429907\n",
        "alpha="
       ]
      },
      {
       "output_type": "stream",
       "stream": "stdout",
       "text": [
        " 0.8 beta= 0.5 y= [51, 49] z= [50, 50] corr(y,z)= 0.620124037212 acc= 0.59 f1= 0.539325842697\n",
        "alpha="
       ]
      },
      {
       "output_type": "stream",
       "stream": "stdout",
       "text": [
        " 0.9 beta= 0.5 y= [48, 52] z= [45, 55] corr(y,z)= 0.78053402183 acc= 0.58 f1= 0.553191489362\n",
        "alpha="
       ]
      },
      {
       "output_type": "stream",
       "stream": "stdout",
       "text": [
        " 0.95 beta= 0.5 y= [48, 52] z= [50, 50] corr(y,z)= 0.920736884379 acc= 0.54 f1= 0.530612244898\n",
        "alpha="
       ]
      },
      {
       "output_type": "stream",
       "stream": "stdout",
       "text": [
        " 0.05 beta= 0.5 y= [54, 46] z= [46, 54] corr(y,z)= -0.87922705314 acc= 0.62 f1= 0.586956521739\n",
        "alpha="
       ]
      },
      {
       "output_type": "stream",
       "stream": "stdout",
       "text": [
        " 0.1 beta= 0.5 y= [48, 52] z= [51, 49] corr(y,z)= -0.820020167919 acc= 0.67 f1= 0.702702702703\n",
        "alpha="
       ]
      },
      {
       "output_type": "stream",
       "stream": "stdout",
       "text": [
        " 0.2 beta= 0.5 y= [52, 48] z= [45, 55] corr(y,z)= -0.700066596899 acc= 0.57 f1= 0.598130841121\n",
        "alpha="
       ]
      },
      {
       "output_type": "stream",
       "stream": "stdout",
       "text": [
        " 0.3 beta= 0.5 y= [59, 41] z= [46, 54] corr(y,z)= -0.291275852384 acc= 0.51 f1= 0.461538461538\n",
        "alpha="
       ]
      },
      {
       "output_type": "stream",
       "stream": "stdout",
       "text": [
        " 0.4 beta= 0.5 y= [55, 45] z= [46, 54] corr(y,z)= -0.0524300117352 acc= 0.55 f1= 0.470588235294\n",
        "alpha="
       ]
      },
      {
       "output_type": "stream",
       "stream": "stdout",
       "text": [
        " 0.5 beta= 0.5 y= [53, 47] z= [57, 43] corr(y,z)= -0.0489696331901 acc= 0.61 f1= 0.589473684211\n",
        "alpha="
       ]
      },
      {
       "output_type": "stream",
       "stream": "stdout",
       "text": [
        " 0.6 beta= 0.5 y= [55, 45] z= [49, 51] corr(y,z)= 0.0824295884179 acc= 0.59 f1= 0.528735632184\n",
        "alpha="
       ]
      },
      {
       "output_type": "stream",
       "stream": "stdout",
       "text": [
        " 0.7 beta= 0.5 y= [53, 47] z= [49, 51] corr(y,z)= 0.442084736476 acc= 0.67 f1= 0.652631578947\n",
        "alpha="
       ]
      },
      {
       "output_type": "stream",
       "stream": "stdout",
       "text": [
        " 0.8 beta= 0.5 y= [42, 58] z= [53, 47] corr(y,z)= 0.476587438257 acc= 0.58 f1= 0.625\n",
        "alpha="
       ]
      },
      {
       "output_type": "stream",
       "stream": "stdout",
       "text": [
        " 0.9 beta= 0.5 y= [41, 59] z= [50, 50] corr(y,z)= 0.75228740341 acc= 0.43 f1= 0.467289719626\n",
        "alpha="
       ]
      },
      {
       "output_type": "stream",
       "stream": "stdout",
       "text": [
        " 0.95 beta= 0.5 y= [44, 56] z= [44, 56] corr(y,z)= 0.918831168831 acc= 0.52 f1= 0.547169811321\n",
        "alpha="
       ]
      },
      {
       "output_type": "stream",
       "stream": "stdout",
       "text": [
        " 0.05 beta= 0.5 y= [52, 48] z= [46, 54] corr(y,z)= -0.880323840882 acc= 0.64 f1= 0.617021276596\n",
        "alpha="
       ]
      },
      {
       "output_type": "stream",
       "stream": "stdout",
       "text": [
        " 0.1 beta= 0.5 y= [49, 51] z= [52, 48] corr(y,z)= -0.820020167919 acc= 0.66 f1= 0.645833333333\n",
        "alpha="
       ]
      },
      {
       "output_type": "stream",
       "stream": "stdout",
       "text": [
        " 0.2 beta= 0.5 y= [52, 48] z= [50, 50] corr(y,z)= -0.64051261522 acc= 0.59 f1= 0.585858585859\n",
        "alpha="
       ]
      },
      {
       "output_type": "stream",
       "stream": "stdout",
       "text": [
        " 0.3 beta= 0.5 y= [44, 56] z= [45, 55] corr(y,z)= -0.234865939862 acc= 0.57 f1= 0.598130841121\n",
        "alpha="
       ]
      },
      {
       "output_type": "stream",
       "stream": "stdout",
       "text": [
        " 0.4 beta= 0.5 y= [55, 45] z= [55, 45] corr(y,z)= -0.0909090909091 acc= 0.66 f1= 0.613636363636\n",
        "alpha="
       ]
      },
      {
       "output_type": "stream",
       "stream": "stdout",
       "text": [
        " 0.5 beta= 0.5 y= [49, 51] z= [48, 52] corr(y,z)= 0.139339364471 acc= 0.69 f1= 0.659340659341\n",
        "alpha="
       ]
      },
      {
       "output_type": "stream",
       "stream": "stdout",
       "text": [
        " 0.6 beta= 0.5 y= [55, 45] z= [47, 53] corr(y,z)= 0.167137395897 acc= 0.52 f1= 0.489361702128\n",
        "alpha="
       ]
      },
      {
       "output_type": "stream",
       "stream": "stdout",
       "text": [
        " 0.7 beta= 0.5 y= [55, 45] z= [55, 45] corr(y,z)= 0.393939393939 acc= 0.55 f1= 0.516129032258\n",
        "alpha="
       ]
      },
      {
       "output_type": "stream",
       "stream": "stdout",
       "text": [
        " 0.8 beta= 0.5 y= [46, 54] z= [53, 47] corr(y,z)= 0.627940320075 acc= 0.62 f1= 0.595744680851\n",
        "alpha="
       ]
      },
      {
       "output_type": "stream",
       "stream": "stdout",
       "text": [
        " 0.9 beta= 0.5 y= [55, 45] z= [58, 42] corr(y,z)= 0.900048743748 acc= 0.63 f1= 0.584269662921\n",
        "alpha="
       ]
      },
      {
       "output_type": "stream",
       "stream": "stdout",
       "text": [
        " 0.95 beta= 0.5 y= [54, 46] z= [51, 49] corr(y,z)= 0.821195773627 acc= 0.55 f1= 0.545454545455\n",
        "alpha="
       ]
      },
      {
       "output_type": "stream",
       "stream": "stdout",
       "text": [
        " 0.05 beta= 0.5 y= [50, 50] z= [53, 47] corr(y,z)= -0.941696582149 acc= 0.6 f1= 0.574468085106\n",
        "alpha="
       ]
      },
      {
       "output_type": "stream",
       "stream": "stdout",
       "text": [
        " 0.1 beta= 0.5 y= [51, 49] z= [51, 49] corr(y,z)= -0.800720288115 acc= 0.59 f1= 0.609523809524\n",
        "alpha="
       ]
      },
      {
       "output_type": "stream",
       "stream": "stdout",
       "text": [
        " 0.2 beta= 0.5 y= [49, 51] z= [50, 50] corr(y,z)= -0.700140042014 acc= 0.63 f1= 0.633663366337\n",
        "alpha="
       ]
      },
      {
       "output_type": "stream",
       "stream": "stdout",
       "text": [
        " 0.3 beta= 0.5 y= [43, 57] z= [58, 42] corr(y,z)= -0.365870354502 acc= 0.7 f1= 0.732142857143\n",
        "alpha="
       ]
      },
      {
       "output_type": "stream",
       "stream": "stdout",
       "text": [
        " 0.4 beta= 0.5 y= [53, 47] z= [46, 54] corr(y,z)= -0.135879531489 acc= 0.57 f1= 0.516853932584\n",
        "alpha="
       ]
      },
      {
       "output_type": "stream",
       "stream": "stdout",
       "text": [
        " 0.5 beta= 0.5 y= [53, 47] z= [56, 44] corr(y,z)= -0.0274474306972 acc= 0.66 f1= 0.595238095238\n",
        "alpha="
       ]
      },
      {
       "output_type": "stream",
       "stream": "stdout",
       "text": [
        " 0.6 beta= 0.5 y= [55, 45] z= [53, 47] corr(y,z)= 0.0745070319058 acc= 0.55 f1= 0.536082474227\n",
        "alpha="
       ]
      },
      {
       "output_type": "stream",
       "stream": "stdout",
       "text": [
        " 0.7 beta= 0.5 y= [45, 55] z= [47, 53] corr(y,z)= 0.436973673609 acc= 0.54 f1= 0.549019607843\n",
        "alpha="
       ]
      },
      {
       "output_type": "stream",
       "stream": "stdout",
       "text": [
        " 0.8 beta= 0.5 y= [50, 50] z= [48, 52] corr(y,z)= 0.600480576769 acc= 0.59 f1= 0.577319587629\n",
        "alpha="
       ]
      },
      {
       "output_type": "stream",
       "stream": "stdout",
       "text": [
        " 0.9 beta= 0.5 y= [62, 38] z= [58, 42] corr(y,z)= 0.753026479714 acc= 0.46 f1= 0.357142857143\n",
        "alpha="
       ]
      },
      {
       "output_type": "stream",
       "stream": "stdout",
       "text": [
        " 0.95 beta= 0.5 y= [55, 45] z= [55, 45] corr(y,z)= 0.919191919192 acc= 0.61 f1= 0.561797752809\n",
        "alpha="
       ]
      },
      {
       "output_type": "stream",
       "stream": "stdout",
       "text": [
        " 0.05 beta= 0.5 y= [53, 47] z= [48, 52] corr(y,z)= -0.940044587174 acc= 0.53 f1= 0.459770114943\n",
        "alpha="
       ]
      },
      {
       "output_type": "stream",
       "stream": "stdout",
       "text": [
        " 0.1 beta= 0.5 y= [49, 51] z= [44, 56] corr(y,z)= -0.78825252509 acc= 0.65 f1= 0.639175257732\n",
        "alpha="
       ]
      },
      {
       "output_type": "stream",
       "stream": "stdout",
       "text": [
        " 0.2 beta= 0.5 y= [52, 48] z= [47, 53] corr(y,z)= -0.699418839604 acc= 0.65 f1= 0.631578947368\n",
        "alpha="
       ]
      },
      {
       "output_type": "stream",
       "stream": "stdout",
       "text": [
        " 0.3 beta= 0.5 y= [47, 53] z= [51, 49] corr(y,z)= -0.479760135595 acc= 0.54 f1= 0.530612244898\n",
        "alpha="
       ]
      },
      {
       "output_type": "stream",
       "stream": "stdout",
       "text": [
        " 0.4 beta= 0.5 y= [49, 51] z= [50, 50] corr(y,z)= -0.300060018006 acc= 0.61 f1= 0.654867256637\n",
        "alpha="
       ]
      },
      {
       "output_type": "stream",
       "stream": "stdout",
       "text": [
        " 0.5 beta= 0.5 y= [45, 55] z= [43, 57] corr(y,z)= -0.136014606614 acc= 0.63 f1= 0.654205607477\n",
        "alpha="
       ]
      },
      {
       "output_type": "stream",
       "stream": "stdout",
       "text": [
        " 0.6 beta= 0.5 y= [59, 41] z= [53, 47] corr(y,z)= 0.355639053513 acc= 0.53 f1= 0.433734939759\n",
        "alpha="
       ]
      },
      {
       "output_type": "stream",
       "stream": "stdout",
       "text": [
        " 0.7 beta= 0.5 y= [47, 53] z= [49, 51] corr(y,z)= 0.519840347424 acc= 0.57 f1= 0.556701030928\n",
        "alpha="
       ]
      },
      {
       "output_type": "stream",
       "stream": "stdout",
       "text": [
        " 0.8 beta= 0.5 y= [33, 67] z= [35, 65] corr(y,z)= 0.555116683261 acc= 0.64 f1= 0.689655172414\n",
        "alpha="
       ]
      },
      {
       "output_type": "stream",
       "stream": "stdout",
       "text": [
        " 0.9 beta= 0.5 y= [38, 62] z= [37, 63] corr(y,z)= 0.850876196188 acc= 0.66 f1= 0.63829787234\n",
        "alpha="
       ]
      },
      {
       "output_type": "stream",
       "stream": "stdout",
       "text": [
        " 0.95 beta= 0.5 y= [55, 45] z= [52, 48] corr(y,z)= 0.820767734295 acc= 0.63 f1= 0.564705882353\n",
        "alpha="
       ]
      },
      {
       "output_type": "stream",
       "stream": "stdout",
       "text": [
        " 0.05 beta= 0.5 y= [48, 52] z= [51, 49] corr(y,z)= -0.900100262443 acc= 0.65 f1= 0.672897196262\n",
        "alpha="
       ]
      },
      {
       "output_type": "stream",
       "stream": "stdout",
       "text": [
        " 0.1 beta= 0.5 y= [54, 46] z= [48, 52] corr(y,z)= -0.67952004506 acc= 0.67 f1= 0.685714285714\n",
        "alpha="
       ]
      },
      {
       "output_type": "stream",
       "stream": "stdout",
       "text": [
        " 0.2 beta= 0.5 y= [52, 48] z= [52, 48] corr(y,z)= -0.482371794872 acc= 0.57 f1= 0.516853932584\n",
        "alpha="
       ]
      },
      {
       "output_type": "stream",
       "stream": "stdout",
       "text": [
        " 0.3 beta= 0.5 y= [52, 48] z= [43, 57] corr(y,z)= -0.621008106741 acc= 0.66 f1= 0.679245283019\n",
        "alpha="
       ]
      },
      {
       "output_type": "stream",
       "stream": "stdout",
       "text": [
        " 0.4 beta= 0.5 y= [55, 45] z= [49, 51] corr(y,z)= -0.118618188211 acc= 0.58 f1= 0.588235294118\n",
        "alpha="
       ]
      },
      {
       "output_type": "stream",
       "stream": "stdout",
       "text": [
        " 0.5 beta= 0.5 y= [44, 56] z= [46, 54] corr(y,z)= 0.111561137704 acc= 0.61 f1= 0.648648648649\n",
        "alpha="
       ]
      },
      {
       "output_type": "stream",
       "stream": "stdout",
       "text": [
        " 0.6 beta= 0.5 y= [45, 55] z= [52, 48] corr(y,z)= 0.10460765241 acc= 0.61 f1= 0.654867256637\n",
        "alpha="
       ]
      },
      {
       "output_type": "stream",
       "stream": "stdout",
       "text": [
        " 0.7 beta= 0.5 y= [51, 49] z= [49, 51] corr(y,z)= 0.40056022409 acc= 0.57 f1= 0.605504587156\n",
        "alpha="
       ]
      },
      {
       "output_type": "stream",
       "stream": "stdout",
       "text": [
        " 0.8 beta= 0.5 y= [42, 58] z= [44, 56] corr(y,z)= 0.633479730366 acc= 0.63 f1= 0.689075630252\n",
        "alpha="
       ]
      },
      {
       "output_type": "stream",
       "stream": "stdout",
       "text": [
        " 0.9 beta= 0.5 y= [52, 48] z= [55, 45] corr(y,z)= 0.820767734295 acc= 0.53 f1= 0.534653465347\n",
        "alpha="
       ]
      },
      {
       "output_type": "stream",
       "stream": "stdout",
       "text": [
        " 0.95 beta= 0.5 y= [50, 50] z= [48, 52] corr(y,z)= 0.880704845928 acc= 0.51 f1= 0.505050505051\n",
        "alpha="
       ]
      },
      {
       "output_type": "stream",
       "stream": "stdout",
       "text": [
        " 0.05 beta= 0.5 y= [50, 50] z= [51, 49] corr(y,z)= -0.940188056419 acc= 0.62 f1= 0.666666666667\n",
        "alpha="
       ]
      },
      {
       "output_type": "stream",
       "stream": "stdout",
       "text": [
        " 0.1 beta= 0.5 y= [46, 54] z= [50, 50] corr(y,z)= -0.76244373621 acc= 0.63 f1= 0.69918699187\n",
        "alpha="
       ]
      },
      {
       "output_type": "stream",
       "stream": "stdout",
       "text": [
        " 0.2 beta= 0.5 y= [45, 55] z= [61, 39] corr(y,z)= -0.719135302102 acc= 0.55 f1= 0.571428571429\n",
        "alpha="
       ]
      },
      {
       "output_type": "stream",
       "stream": "stdout",
       "text": [
        " 0.3 beta= 0.5 y= [50, 50] z= [46, 54] corr(y,z)= -0.441414794648 acc= 0.65 f1= 0.678899082569\n",
        "alpha="
       ]
      },
      {
       "output_type": "stream",
       "stream": "stdout",
       "text": [
        " 0.4 beta= 0.5 y= [41, 59] z= [53, 47] corr(y,z)= -0.192688742625 acc= 0.62 f1= 0.677966101695\n",
        "alpha="
       ]
      },
      {
       "output_type": "stream",
       "stream": "stdout",
       "text": [
        " 0.5 beta= 0.5 y= [58, 42] z= [43, 57] corr(y,z)= -0.284020163338 acc= 0.62 f1= 0.577777777778\n",
        "alpha="
       ]
      },
      {
       "output_type": "stream",
       "stream": "stdout",
       "text": [
        " 0.6 beta= 0.5 y= [52, 48] z= [44, 56] corr(y,z)= 0.125809069935 acc= 0.61 f1= 0.635514018692\n",
        "alpha="
       ]
      },
      {
       "output_type": "stream",
       "stream": "stdout",
       "text": [
        " 0.7 beta= 0.5 y= [53, 47] z= [52, 48] corr(y,z)= 0.338480218249 acc= 0.7 f1= 0.722222222222\n",
        "alpha="
       ]
      },
      {
       "output_type": "stream",
       "stream": "stdout",
       "text": [
        " 0.8 beta= 0.5 y= [46, 54] z= [46, 54] corr(y,z)= 0.557165861514 acc= 0.58 f1= 0.637931034483\n",
        "alpha="
       ]
      },
      {
       "output_type": "stream",
       "stream": "stdout",
       "text": [
        " 0.9 beta= 0.5 y= [54, 46] z= [50, 50] corr(y,z)= 0.8427009716 acc= 0.54 f1= 0.54\n",
        "alpha="
       ]
      },
      {
       "output_type": "stream",
       "stream": "stdout",
       "text": [
        " 0.95 beta= 0.5 y= [47, 53] z= [47, 53] corr(y,z)= 0.799277398635 acc= 0.56 f1= 0.65625\n",
        "alpha="
       ]
      },
      {
       "output_type": "stream",
       "stream": "stdout",
       "text": [
        " 0.05 beta= 0.5 y= [53, 47] z= [47, 53] corr(y,z)= -0.879566439181 acc= 0.59 f1= 0.568421052632\n",
        "alpha="
       ]
      },
      {
       "output_type": "stream",
       "stream": "stdout",
       "text": [
        " 0.1 beta= 0.5 y= [56, 44] z= [42, 58] corr(y,z)= -0.755930709174 acc= 0.64 f1= 0.560975609756\n",
        "alpha="
       ]
      },
      {
       "output_type": "stream",
       "stream": "stdout",
       "text": [
        " 0.2 beta= 0.5 y= [45, 55] z= [59, 41] corr(y,z)= -0.717251697886 acc= 0.63 f1= 0.647619047619\n",
        "alpha="
       ]
      },
      {
       "output_type": "stream",
       "stream": "stdout",
       "text": [
        " 0.3 beta= 0.5 y= [61, 39] z= [41, 59] corr(y,z)= -0.333900724111 acc= 0.53 f1= 0.459770114943\n",
        "alpha="
       ]
      },
      {
       "output_type": "stream",
       "stream": "stdout",
       "text": [
        " 0.4 beta= 0.5 y= [42, 58] z= [58, 42] corr(y,z)= -0.137931034483 acc= 0.54 f1= 0.566037735849\n",
        "alpha="
       ]
      },
      {
       "output_type": "stream",
       "stream": "stdout",
       "text": [
        " 0.5 beta= 0.5 y= [51, 49] z= [42, 58] corr(y,z)= -0.0980829672708 acc= 0.57 f1= 0.598130841121\n",
        "alpha="
       ]
      },
      {
       "output_type": "stream",
       "stream": "stdout",
       "text": [
        " 0.6 beta= 0.5 y= [51, 49] z= [53, 47] corr(y,z)= 0.0789580173035 acc= 0.55 f1= 0.526315789474\n",
        "alpha="
       ]
      },
      {
       "output_type": "stream",
       "stream": "stdout",
       "text": [
        " 0.7 beta= 0.5 y= [47, 53] z= [50, 50] corr(y,z)= 0.420758047343 acc= 0.59 f1= 0.616822429907\n",
        "alpha="
       ]
      },
      {
       "output_type": "stream",
       "stream": "stdout",
       "text": [
        " 0.8 beta= 0.5 y= [46, 54] z= [40, 60] corr(y,z)= 0.557002945474 acc= 0.6 f1= 0.62962962963\n",
        "alpha="
       ]
      },
      {
       "output_type": "stream",
       "stream": "stdout",
       "text": [
        " 0.9 beta= 0.5 y= [55, 45] z= [54, 46] corr(y,z)= 0.778384020376 acc= 0.55 f1= 0.470588235294\n",
        "alpha="
       ]
      },
      {
       "output_type": "stream",
       "stream": "stdout",
       "text": [
        " 0.95 beta= 0.5 y= [50, 50] z= [51, 49] corr(y,z)= 0.900180054018 acc= 0.6 f1= 0.591836734694\n",
        "alpha="
       ]
      },
      {
       "output_type": "stream",
       "stream": "stdout",
       "text": [
        " 0.05 beta= 0.5 y= [53, 47] z= [50, 50] corr(y,z)= -0.901624387163 acc= 0.51 f1= 0.505050505051\n",
        "alpha="
       ]
      },
      {
       "output_type": "stream",
       "stream": "stdout",
       "text": [
        " 0.1 beta= 0.5 y= [47, 53] z= [57, 43] corr(y,z)= -0.841387333903 acc= 0.48 f1= 0.518518518519\n",
        "alpha="
       ]
      },
      {
       "output_type": "stream",
       "stream": "stdout",
       "text": [
        " 0.2 beta= 0.5 y= [47, 53] z= [53, 47] corr(y,z)= -0.59855479727 acc= 0.54 f1= 0.520833333333\n",
        "alpha="
       ]
      },
      {
       "output_type": "stream",
       "stream": "stdout",
       "text": [
        " 0.3 beta= 0.5 y= [48, 52] z= [53, 47] corr(y,z)= -0.418688800772 acc= 0.55 f1= 0.563106796117\n",
        "alpha="
       ]
      },
      {
       "output_type": "stream",
       "stream": "stdout",
       "text": [
        " 0.4 beta= 0.5 y= [42, 58] z= [47, 53] corr(y,z)= -0.192421163317 acc= 0.49 f1= 0.548672566372\n",
        "alpha="
       ]
      },
      {
       "output_type": "stream",
       "stream": "stdout",
       "text": [
        " 0.5 beta= 0.5 y= [52, 48] z= [46, 54] corr(y,z)= -0.11726941676 acc= 0.39 f1= 0.282352941176\n",
        "alpha="
       ]
      },
      {
       "output_type": "stream",
       "stream": "stdout",
       "text": [
        " 0.6 beta= 0.5 y= [47, 53] z= [47, 53] corr(y,z)= 0.19710959454 acc= 0.57 f1= 0.619469026549\n",
        "alpha="
       ]
      },
      {
       "output_type": "stream",
       "stream": "stdout",
       "text": [
        " 0.7 beta= 0.5 y= [49, 51] z= [48, 52] corr(y,z)= 0.419619695302 acc= 0.49 f1= 0.504854368932\n",
        "alpha="
       ]
      },
      {
       "output_type": "stream",
       "stream": "stdout",
       "text": [
        " 0.8 beta= 0.5 y= [55, 45] z= [52, 48] corr(y,z)= 0.78053402183 acc= 0.56 f1= 0.592592592593\n",
        "alpha="
       ]
      },
      {
       "output_type": "stream",
       "stream": "stdout",
       "text": [
        " 0.9 beta= 0.5 y= [50, 50] z= [51, 49] corr(y,z)= 0.780156046816 acc= 0.57 f1= 0.605504587156\n",
        "alpha="
       ]
      },
      {
       "output_type": "stream",
       "stream": "stdout",
       "text": [
        " 0.95 beta= 0.5 y= [48, 52] z= [47, 53] corr(y,z)= 0.899940295913 acc= 0.5 f1= 0.561403508772\n"
       ]
      }
     ],
     "prompt_number": 104
    },
    {
     "cell_type": "code",
     "collapsed": false,
     "input": [
      "fig = plt.figure()\n",
      "plt.scatter(corrs, accuracies)\n",
      "#plt.scatter(alphas, accuracies)\n",
      "plt.xlabel('correlation of Y and Z (abs val)')\n",
      "plt.ylabel('accuracy')\n",
      "plt.show()\n",
      "print pearsonr(np.abs(corrs), accuracies)[0]"
     ],
     "language": "python",
     "metadata": {},
     "outputs": [
      {
       "metadata": {},
       "output_type": "display_data",
       "png": "[encoded data removed]",
       "text": [
        "<matplotlib.figure.Figure at 0x11058d5d0>"
       ]
      },
      {
       "output_type": "stream",
       "stream": "stdout",
       "text": [
        "-0.487473455757\n"
       ]
      }
     ],
     "prompt_number": 105
    },
    {
     "cell_type": "code",
     "collapsed": false,
     "input": [
      "from mpl_toolkits.mplot3d import Axes3D\n",
      "import matplotlib.pyplot as plt\n",
      "import numpy as np\n",
      "\n",
      "alpha_grid, beta_grid = np.meshgrid(alphas, betas)\n",
      "fig = plt.figure()\n",
      "ax1 = fig.add_subplot(111, projection='3d') \n",
      "ax1.scatter(alpha_grid.flatten(), beta_grid.flatten(), accuracies)\n",
      "ax1.set_xlabel('alpha')\n",
      "ax1.set_ylabel('beta')\n",
      "ax1.set_zlabel('accuracy')\n",
      "plt.show()"
     ],
     "language": "python",
     "metadata": {},
     "outputs": [
      {
       "metadata": {},
       "output_type": "display_data",
       "png": "[encoded data removed]",
       "text": [
        "<matplotlib.figure.Figure at 0x11041de90>"
       ]
      }
     ],
     "prompt_number": 49
    }
   ],
   "metadata": {}
  }
 ]
}